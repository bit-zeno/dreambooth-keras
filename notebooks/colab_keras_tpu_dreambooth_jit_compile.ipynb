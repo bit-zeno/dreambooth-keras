{
  "nbformat": 4,
  "nbformat_minor": 0,
  "metadata": {
    "colab": {
      "provenance": []
    },
    "kernelspec": {
      "name": "python3",
      "display_name": "Python 3"
    },
    "language_info": {
      "name": "python"
    },
    "accelerator": "TPU",
    "gpuClass": "standard"
  },
  "cells": [
    {
      "cell_type": "markdown",
      "source": [
        "# Dreambooth Keras - TPU Experimental"
      ],
      "metadata": {
        "id": "l6Nj02Rea1eI"
      }
    },
    {
      "cell_type": "code",
      "execution_count": 1,
      "metadata": {
        "colab": {
          "base_uri": "https://localhost:8080/"
        },
        "id": "rBRgeDA_2kNM",
        "outputId": "e9f124fc-0828-4763-b946-c9229a2cb5e3"
      },
      "outputs": [
        {
          "output_type": "stream",
          "name": "stdout",
          "text": [
            "Number of Logical CPU cores: 2\n"
          ]
        }
      ],
      "source": [
        "from multiprocessing import cpu_count\n",
        "n_cores = cpu_count()\n",
        "print(f'Number of Logical CPU cores: {n_cores}')"
      ]
    },
    {
      "cell_type": "code",
      "source": [
        "!pip install -q -U keras_cv\n",
        "!pip install -q -U tensorflow"
      ],
      "metadata": {
        "id": "6AEn9ccx2pmY"
      },
      "execution_count": 2,
      "outputs": []
    },
    {
      "cell_type": "code",
      "source": [
        "import math\n",
        "\n",
        "import keras_cv\n",
        "import matplotlib.pyplot as plt\n",
        "import numpy as np\n",
        "import tensorflow as tf\n",
        "from imutils import paths\n",
        "from tensorflow import keras"
      ],
      "metadata": {
        "id": "nwuvGDjX2qyx"
      },
      "execution_count": 3,
      "outputs": []
    },
    {
      "cell_type": "code",
      "source": [
        "print(\"TensorFlow version:\", tf.__version__)\n",
        "print(\"Keras CV version:\", keras_cv.__version__)"
      ],
      "metadata": {
        "colab": {
          "base_uri": "https://localhost:8080/"
        },
        "id": "KzsuR69_2swn",
        "outputId": "b711ca8b-21fe-4eab-e7b3-f329ec20bd37"
      },
      "execution_count": 4,
      "outputs": [
        {
          "output_type": "stream",
          "name": "stdout",
          "text": [
            "TensorFlow version: 2.12.0\n",
            "Keras CV version: 0.5.0\n"
          ]
        }
      ]
    },
    {
      "cell_type": "code",
      "source": [
        "resolver = tf.distribute.cluster_resolver.TPUClusterResolver(tpu='')\n",
        "tf.config.experimental_connect_to_cluster(resolver)\n",
        "topology = tf.tpu.experimental.initialize_tpu_system(resolver)\n",
        "device_assignment = tf.tpu.experimental.DeviceAssignment.build(\n",
        "    topology,\n",
        "    num_replicas=8) # default is 8, you may adjust number of replicas\n",
        "strategy = tf.distribute.TPUStrategy(\n",
        "    resolver, experimental_device_assignment=device_assignment)"
      ],
      "metadata": {
        "id": "bdErVPOi2uwA"
      },
      "execution_count": 5,
      "outputs": []
    },
    {
      "cell_type": "code",
      "source": [
        "print(\"All devices: \", tf.config.list_logical_devices('TPU'))"
      ],
      "metadata": {
        "colab": {
          "base_uri": "https://localhost:8080/"
        },
        "id": "QMaNm1a0l51M",
        "outputId": "5587837d-7d20-4e60-d80a-b45b1cd7b507"
      },
      "execution_count": 6,
      "outputs": [
        {
          "output_type": "stream",
          "name": "stdout",
          "text": [
            "All devices:  [LogicalDevice(name='/job:worker/replica:0/task:0/device:TPU:0', device_type='TPU'), LogicalDevice(name='/job:worker/replica:0/task:0/device:TPU:1', device_type='TPU'), LogicalDevice(name='/job:worker/replica:0/task:0/device:TPU:2', device_type='TPU'), LogicalDevice(name='/job:worker/replica:0/task:0/device:TPU:3', device_type='TPU'), LogicalDevice(name='/job:worker/replica:0/task:0/device:TPU:4', device_type='TPU'), LogicalDevice(name='/job:worker/replica:0/task:0/device:TPU:5', device_type='TPU'), LogicalDevice(name='/job:worker/replica:0/task:0/device:TPU:6', device_type='TPU'), LogicalDevice(name='/job:worker/replica:0/task:0/device:TPU:7', device_type='TPU')]\n"
          ]
        }
      ]
    },
    {
      "cell_type": "code",
      "source": [
        "instance_images_root = tf.keras.utils.get_file(\n",
        "    origin=\"https://huggingface.co/datasets/sayakpaul/sample-datasets/resolve/main/instance-images.tar.gz\",\n",
        "    untar=True,\n",
        ")\n",
        "class_images_root = tf.keras.utils.get_file(\n",
        "    origin=\"https://huggingface.co/datasets/sayakpaul/sample-datasets/resolve/main/class-images.tar.gz\",\n",
        "    untar=True,\n",
        ")"
      ],
      "metadata": {
        "id": "VlhnPMY42xkV"
      },
      "execution_count": 7,
      "outputs": []
    },
    {
      "cell_type": "code",
      "source": [
        "instance_image_paths = list(paths.list_images(instance_images_root))\n",
        "class_image_paths = list(paths.list_images(class_images_root))"
      ],
      "metadata": {
        "id": "Bc8_3VgW21Pe"
      },
      "execution_count": 8,
      "outputs": []
    },
    {
      "cell_type": "code",
      "source": [
        "def load_images(image_paths):\n",
        "    images = [np.array(keras.utils.load_img(path)) for path in image_paths]\n",
        "    return images"
      ],
      "metadata": {
        "id": "PGjsGwWL21gA"
      },
      "execution_count": 9,
      "outputs": []
    },
    {
      "cell_type": "code",
      "source": [
        "def plot_images(images, title=None):\n",
        "    plt.figure(figsize=(20, 20))\n",
        "    for i in range(len(images)):\n",
        "        ax = plt.subplot(1, len(images), i + 1)\n",
        "        if title is not None:\n",
        "            plt.title(title)\n",
        "        plt.imshow(images[i])\n",
        "        plt.axis(\"off\")"
      ],
      "metadata": {
        "id": "ic8ZluNB23OI"
      },
      "execution_count": 10,
      "outputs": []
    },
    {
      "cell_type": "code",
      "source": [
        "# Since we're using prior preservation, we need to match the number\n",
        "# of instance images we're using. We just repeat the instance image paths\n",
        "# to do so.\n",
        "new_instance_image_paths = []\n",
        "for index in range(len(class_image_paths)):\n",
        "    instance_image = instance_image_paths[index % len(instance_image_paths)]\n",
        "    new_instance_image_paths.append(instance_image)\n",
        "\n",
        "# We just repeat the prompts / captions per images.\n",
        "unique_id = \"sks\"\n",
        "class_label = \"dog\"\n",
        "\n",
        "instance_prompt = f\"a photo of {unique_id} {class_label}\"\n",
        "instance_prompts = [instance_prompt] * len(new_instance_image_paths)\n",
        "\n",
        "class_prompt = f\"a photo of {class_label}\"\n",
        "class_prompts = [class_prompt] * len(class_image_paths)"
      ],
      "metadata": {
        "id": "9JjhmIAY240y"
      },
      "execution_count": 11,
      "outputs": []
    },
    {
      "cell_type": "code",
      "source": [
        "import itertools\n",
        "\n",
        "# The padding token and maximum prompt length are specific to the text encoder.\n",
        "# If you're using a different text encoder be sure to change them accordingly.\n",
        "padding_token = 49407\n",
        "max_prompt_length = 77\n",
        "\n",
        "# Load the tokenizer.\n",
        "tokenizer = keras_cv.models.stable_diffusion.SimpleTokenizer()\n",
        "\n",
        "# Method to tokenize and pad the tokens.\n",
        "def process_text(caption):\n",
        "    tokens = tokenizer.encode(caption)\n",
        "    tokens = tokens + [padding_token] * (max_prompt_length - len(tokens))\n",
        "    return np.array(tokens)\n",
        "\n",
        "\n",
        "# Collate the tokenized captions into an array.\n",
        "tokenized_texts = np.empty(\n",
        "    (len(instance_prompts) + len(class_prompts), max_prompt_length)\n",
        ")\n",
        "\n",
        "for i, caption in enumerate(itertools.chain(instance_prompts, class_prompts)):\n",
        "    tokenized_texts[i] = process_text(caption)\n",
        "\n",
        "\n",
        "# We also pre-compute the text embeddings to save some memory during training.\n",
        "POS_IDS = tf.convert_to_tensor([list(range(max_prompt_length))], dtype=tf.int32)\n",
        "text_encoder = keras_cv.models.stable_diffusion.TextEncoder(max_prompt_length)\n",
        "\n",
        "# gpus = tf.config.list_logical_devices(\"GPU\")\n",
        "\n",
        "# Ensure the computation takes place on a TPU.\n",
        "with strategy.scope():\n",
        "    embedded_text = text_encoder(\n",
        "        [tf.convert_to_tensor(tokenized_texts), POS_IDS], training=False\n",
        "    ).numpy()\n",
        "\n",
        "# To ensure text_encoder doesn't occupy any GPU space.\n",
        "del text_encoder"
      ],
      "metadata": {
        "id": "WXTBDzkK28vt"
      },
      "execution_count": 12,
      "outputs": []
    },
    {
      "cell_type": "code",
      "source": [
        "resolution = 512\n",
        "auto = tf.data.AUTOTUNE\n",
        "\n",
        "augmenter = keras.Sequential(\n",
        "    layers=[\n",
        "        keras_cv.layers.CenterCrop(resolution, resolution),\n",
        "        keras_cv.layers.RandomFlip(),\n",
        "        keras.layers.Rescaling(scale=1.0 / 127.5, offset=-1),\n",
        "    ]\n",
        ")\n",
        "\n",
        "def center_crop_with_resize(image, size):\n",
        "    shape = tf.shape(image)\n",
        "    h, w = shape[0], shape[1]\n",
        "    h, w = tf.cast(h, tf.int32), tf.cast(w, tf.int32)\n",
        "    if h > w:\n",
        "        cropped_image = tf.image.crop_to_bounding_box(image, (h - w) // 2, 0, w, w)\n",
        "    else:\n",
        "        cropped_image = tf.image.crop_to_bounding_box(image, 0, (w - h) // 2, h, h)\n",
        "    return tf.image.resize(cropped_image, size)\n",
        "\n",
        "\n",
        "def process_image(image, tokenized_text):\n",
        "    # image = tf.io.read_file(image_path) # tpu does not support reading local files\n",
        "    image = tf.io.decode_png(image, 3)\n",
        "    image = tf.image.resize(image, (resolution, resolution))\n",
        "    image = center_crop_with_resize(image, size=(resolution, resolution))\n",
        "    return image, tokenized_text\n",
        "\n",
        "\n",
        "def apply_augmentation(image_batch, embedded_tokens):\n",
        "    return augmenter(image_batch), embedded_tokens\n",
        "\n",
        "\n",
        "def prepare_dict(instance_only=True):\n",
        "    def fn(image_batch, embedded_tokens):\n",
        "        if instance_only:\n",
        "            batch_dict = {\n",
        "                \"instance_images\": image_batch,\n",
        "                \"instance_embedded_texts\": embedded_tokens,\n",
        "            }\n",
        "            return batch_dict\n",
        "        else:\n",
        "            batch_dict = {\n",
        "                \"class_images\": image_batch,\n",
        "                \"class_embedded_texts\": embedded_tokens,\n",
        "            }\n",
        "            return batch_dict\n",
        "\n",
        "    return fn\n",
        "\n",
        "\n",
        "def assemble_dataset(images, embedded_texts, instance_only=True, batch_size=1):\n",
        "    dataset = tf.data.Dataset.from_tensor_slices((images, embedded_texts))\n",
        "    dataset = dataset.map(process_image, num_parallel_calls=auto)\n",
        "    dataset = dataset.shuffle(5, reshuffle_each_iteration=True)\n",
        "    dataset = dataset.batch(batch_size)\n",
        "    dataset = dataset.map(apply_augmentation, num_parallel_calls=auto)\n",
        "\n",
        "    prepare_dict_fn = prepare_dict(instance_only=instance_only)\n",
        "    dataset = dataset.map(prepare_dict_fn, num_parallel_calls=auto)\n",
        "    return dataset"
      ],
      "metadata": {
        "id": "s2YY4nBR2-k5"
      },
      "execution_count": 13,
      "outputs": []
    },
    {
      "cell_type": "code",
      "source": [
        "batch_size = 1\n",
        "instance_images = []\n",
        "\n",
        "for i in range(len(new_instance_image_paths)):\n",
        "    with open(new_instance_image_paths[i], \"rb\") as local_file: # <= change here\n",
        "        image = local_file.read()\n",
        "        instance_images.append(image)\n",
        "\n",
        "instance_dataset = assemble_dataset(\n",
        "    instance_images,\n",
        "    embedded_text[: len(new_instance_image_paths)],\n",
        "    batch_size=batch_size\n",
        ")\n",
        "\n",
        "class_images = []\n",
        "for i in range(len(class_image_paths)):\n",
        "    with open(class_image_paths[i], \"rb\") as local_file: # <= change here\n",
        "        image = local_file.read()\n",
        "        class_images.append(image)\n",
        "\n",
        "class_dataset = assemble_dataset(\n",
        "    class_images,\n",
        "    embedded_text[len(new_instance_image_paths) :],\n",
        "    instance_only=False,\n",
        "    batch_size=batch_size\n",
        ")\n",
        "train_dataset = tf.data.Dataset.zip((instance_dataset, class_dataset))"
      ],
      "metadata": {
        "id": "uwyipVCI3A0P"
      },
      "execution_count": 14,
      "outputs": []
    },
    {
      "cell_type": "code",
      "source": [
        "sample_batch = next(iter(train_dataset))\n",
        "print(sample_batch[0].keys(), sample_batch[1].keys())\n",
        "\n",
        "for k in sample_batch[0]:\n",
        "    print(k, sample_batch[0][k].shape)\n",
        "\n",
        "for k in sample_batch[1]:\n",
        "    print(k, sample_batch[1][k].shape)"
      ],
      "metadata": {
        "colab": {
          "base_uri": "https://localhost:8080/"
        },
        "id": "ce16bjf43CQV",
        "outputId": "b7f12257-328d-478a-aedf-3a1081db3f61"
      },
      "execution_count": 15,
      "outputs": [
        {
          "output_type": "stream",
          "name": "stdout",
          "text": [
            "dict_keys(['instance_images', 'instance_embedded_texts']) dict_keys(['class_images', 'class_embedded_texts'])\n",
            "instance_images (1, 512, 512, 3)\n",
            "instance_embedded_texts (1, 77, 768)\n",
            "class_images (1, 512, 512, 3)\n",
            "class_embedded_texts (1, 77, 768)\n"
          ]
        }
      ]
    },
    {
      "cell_type": "code",
      "source": [
        "import keras_cv\n",
        "import tensorflow.experimental.numpy as tnp"
      ],
      "metadata": {
        "id": "4PDXbHQI3D2q"
      },
      "execution_count": 16,
      "outputs": []
    },
    {
      "cell_type": "code",
      "source": [
        "import tensorflow.experimental.numpy as tnp\n",
        "\n",
        "\n",
        "class DreamBoothTrainer(tf.keras.Model):\n",
        "    # Reference:\n",
        "    # https://github.com/huggingface/diffusers/blob/main/examples/dreambooth/train_dreambooth.py\n",
        "\n",
        "    def __init__(\n",
        "        self,\n",
        "        diffusion_model,\n",
        "        vae,\n",
        "        noise_scheduler,\n",
        "        use_mixed_precision=False,\n",
        "        prior_loss_weight=1.0,\n",
        "        max_grad_norm=1.0,\n",
        "        **kwargs,\n",
        "    ):\n",
        "        super().__init__(**kwargs)\n",
        "\n",
        "        self.diffusion_model = diffusion_model\n",
        "        self.vae = vae\n",
        "        self.noise_scheduler = noise_scheduler\n",
        "        self.prior_loss_weight = prior_loss_weight\n",
        "        self.max_grad_norm = max_grad_norm\n",
        "\n",
        "        self.use_mixed_precision = use_mixed_precision\n",
        "        self.vae.trainable = False\n",
        "\n",
        "    @tf.function\n",
        "    def train_step(self, inputs):\n",
        "        return self.step_fn(inputs)\n",
        "        # per_replica_losses = strategy.run(self.step_fn, args=(inputs,))\n",
        "        # return strategy.reduce(tf.distribute.ReduceOp.SUM, per_replica_losses,\n",
        "        #                 axis=None)\n",
        "        \n",
        "    @tf.function(jit_compile=True)\n",
        "    def step_fn(self, inputs):\n",
        "        instance_batch = inputs[0]\n",
        "        class_batch = inputs[1]\n",
        "\n",
        "        instance_images = instance_batch[\"instance_images\"]\n",
        "        instance_embedded_text = instance_batch[\"instance_embedded_texts\"]\n",
        "        class_images = class_batch[\"class_images\"]\n",
        "        class_embedded_text = class_batch[\"class_embedded_texts\"]\n",
        "\n",
        "        images = tf.concat([instance_images, class_images], 0)\n",
        "        embedded_texts = tf.concat([instance_embedded_text, class_embedded_text], 0)\n",
        "        batch_size = tf.shape(images)[0]\n",
        "\n",
        "        with tf.GradientTape() as tape:\n",
        "            # Project image into the latent space and sample from it.\n",
        "            latents = self.sample_from_encoder_outputs(self.vae(images, training=False))\n",
        "            # Know more about the magic number here:\n",
        "            # https://keras.io/examples/generative/fine_tune_via_textual_inversion/\n",
        "            # latents = tf.math.scalar_mul(0.18215, latents)\n",
        "            latents = 0.18215 * latents\n",
        "\n",
        "            # Sample noise that we'll add to the latents.\n",
        "            noise = tf.random.normal(tf.shape(latents))\n",
        "\n",
        "            # Sample a random timestep for each image.\n",
        "            timesteps = tnp.random.randint(\n",
        "                0, self.noise_scheduler.train_timesteps, (batch_size,)\n",
        "            )\n",
        "            # timesteps = next(randTnp)\n",
        "\n",
        "            # Add noise to the latents according to the noise magnitude at each timestep\n",
        "            # (this is the forward diffusion process).\n",
        "            noisy_latents = self.noise_scheduler.add_noise(\n",
        "                tf.cast(latents, noise.dtype), noise, timesteps\n",
        "            )\n",
        "\n",
        "            # Get the target for loss depending on the prediction type\n",
        "            # just the sampled noise for now.\n",
        "            target = noise  # noise_schedule.predict_epsilon == True\n",
        "\n",
        "            # Predict the noise residual and compute loss.\n",
        "            timestep_embedding = tf.map_fn(\n",
        "                lambda t: self.get_timestep_embedding(t), timesteps, dtype=tf.float32\n",
        "            )\n",
        "            model_pred = self.diffusion_model(\n",
        "                [noisy_latents, timestep_embedding, embedded_texts], training=True\n",
        "            )\n",
        "            loss = self.compute_loss(target, model_pred)\n",
        "            if self.use_mixed_precision:\n",
        "                loss = self.optimizer.get_scaled_loss(loss)\n",
        "\n",
        "        # Update parameters of the diffusion model.\n",
        "        trainable_vars = self.diffusion_model.trainable_variables\n",
        "        gradients = tape.gradient(loss, trainable_vars)\n",
        "        if self.use_mixed_precision:\n",
        "            gradients = self.optimizer.get_unscaled_gradients(gradients)\n",
        "        gradients = [tf.clip_by_norm(g, self.max_grad_norm) for g in gradients]\n",
        "        self.optimizer.apply_gradients(zip(gradients, trainable_vars))\n",
        "        del gradients \n",
        "\n",
        "        return loss\n",
        "\n",
        "        # return {m.name: m.result() for m in self.metrics}\n",
        "\n",
        "    def get_timestep_embedding(self, timestep, dim=320, max_period=10000):\n",
        "        half = dim // 2\n",
        "        log_max_preiod = tf.math.log(tf.cast(max_period, tf.float32))\n",
        "        freqs = tf.math.exp(\n",
        "            -log_max_preiod * tf.range(0, half, dtype=tf.float32) / half\n",
        "        )\n",
        "        args = tf.convert_to_tensor([timestep], dtype=tf.float32) * freqs\n",
        "        embedding = tf.concat([tf.math.cos(args), tf.math.sin(args)], 0)\n",
        "        return embedding\n",
        "\n",
        "    def sample_from_encoder_outputs(self, outputs):\n",
        "        mean, logvar = tf.split(outputs, 2, axis=-1)\n",
        "        logvar = tf.clip_by_value(logvar, -30.0, 20.0)\n",
        "        std = tf.exp(0.5 * logvar)\n",
        "        sample = tf.random.normal(tf.shape(mean), dtype=mean.dtype)\n",
        "        return mean + std * sample\n",
        "\n",
        "    def compute_loss(self, target, model_pred):\n",
        "        # Chunk the noise and model_pred into two parts and compute the loss\n",
        "        # on each part separately.\n",
        "        # Since the first half of the inputs has instance samples and the second half\n",
        "        # has class samples, we do the chunking accordingly.\n",
        "        model_pred, model_pred_prior = tf.split(\n",
        "            model_pred, num_or_size_splits=2, axis=0\n",
        "        )\n",
        "        target, target_prior = tf.split(target, num_or_size_splits=2, axis=0)\n",
        "\n",
        "        # Compute instance loss.\n",
        "        loss = self.compiled_loss(target, model_pred)\n",
        "\n",
        "        # Compute prior loss.\n",
        "        prior_loss = self.compiled_loss(target_prior, model_pred_prior)\n",
        "\n",
        "        # Add the prior loss to the instance loss.\n",
        "        loss = loss + self.prior_loss_weight * prior_loss\n",
        "        return loss\n",
        "\n",
        "    def save_weights(self, filepath, overwrite=True, save_format=None, options=None):\n",
        "        # Overriding this method will allow us to use the `ModelCheckpoint`\n",
        "        # callback directly with this trainer class. In this case, it will\n",
        "        # only checkpoint the `diffusion_model` since that's what we're training\n",
        "        # during fine-tuning.\n",
        "        self.diffusion_model.save_weights(\n",
        "            filepath=filepath,\n",
        "            overwrite=overwrite,\n",
        "            save_format=save_format,\n",
        "            options=options,\n",
        "        )\n",
        "\n",
        "    def load_weights(self, filepath, by_name=False, skip_mismatch=False, options=None):\n",
        "        # Similarly override `load_weights()` so that we can directly call it on\n",
        "        # the trainer class object.\n",
        "        self.diffusion_model.load_weights(\n",
        "            filepath=filepath,\n",
        "            by_name=by_name,\n",
        "            skip_mismatch=skip_mismatch,\n",
        "            options=options,\n",
        "        )"
      ],
      "metadata": {
        "id": "jg40UZW93Jv0"
      },
      "execution_count": 17,
      "outputs": []
    },
    {
      "cell_type": "code",
      "source": [
        "# Comment it if you are not using a GPU having tensor cores.\n",
        "tf.keras.mixed_precision.set_global_policy(\"mixed_bfloat16\")\n",
        "\n",
        "use_mp = False  # Set it to False if you're not using a GPU with tensor cores."
      ],
      "metadata": {
        "id": "J6bkcR923PjG"
      },
      "execution_count": 18,
      "outputs": []
    },
    {
      "cell_type": "code",
      "source": [
        "with strategy.scope():\n",
        "    image_encoder = keras_cv.models.stable_diffusion.ImageEncoder(download_weights=True)"
      ],
      "metadata": {
        "id": "WsYg9T0o3QCT"
      },
      "execution_count": 19,
      "outputs": []
    },
    {
      "cell_type": "code",
      "source": [
        "with strategy.scope():\n",
        "    diffusion_model=keras_cv.models.stable_diffusion.DiffusionModel(\n",
        "        resolution, resolution, max_prompt_length, download_weights=True\n",
        "    )"
      ],
      "metadata": {
        "id": "vGhQnr0P3Ril"
      },
      "execution_count": null,
      "outputs": []
    },
    {
      "cell_type": "code",
      "source": [
        "with strategy.scope():\n",
        "    dreambooth_trainer = DreamBoothTrainer(\n",
        "        diffusion_model=diffusion_model,\n",
        "        # Remove the top layer from the encoder, which cuts off the variance and only\n",
        "        # returns the mean.\n",
        "        vae=tf.keras.Model(\n",
        "            image_encoder.input,\n",
        "            image_encoder.layers[-2].output,\n",
        "        ),\n",
        "        noise_scheduler=keras_cv.models.stable_diffusion.NoiseScheduler(),\n",
        "        use_mixed_precision=use_mp,\n",
        "    )\n",
        "\n",
        "    # These hyperparameters come from this tutorial by Hugging Face:\n",
        "    # https://github.com/huggingface/diffusers/tree/main/examples/dreambooth\n",
        "    learning_rate = 5e-6\n",
        "    beta_1, beta_2 = 0.9, 0.999\n",
        "    weight_decay = (1e-2,)\n",
        "    epsilon = 1e-08\n",
        "\n",
        "    optimizer = tf.keras.optimizers.experimental.AdamW(\n",
        "        learning_rate=learning_rate,\n",
        "        weight_decay=weight_decay,\n",
        "        beta_1=beta_1,\n",
        "        beta_2=beta_2,\n",
        "        epsilon=epsilon,\n",
        "        jit_compile=True\n",
        "    )\n",
        "\n",
        "    dreambooth_trainer.compile(optimizer=optimizer, loss=\"mse\")"
      ],
      "metadata": {
        "id": "vxR-SDnk3Zx0"
      },
      "execution_count": null,
      "outputs": []
    },
    {
      "cell_type": "code",
      "source": [
        "num_update_steps_per_epoch = train_dataset.cardinality()\n",
        "max_train_steps = 800\n",
        "epochs = math.ceil(max_train_steps / num_update_steps_per_epoch)\n",
        "print(f\"Training for {epochs} epochs.\")"
      ],
      "metadata": {
        "id": "cv57gehW3tHb"
      },
      "execution_count": null,
      "outputs": []
    },
    {
      "cell_type": "code",
      "source": [
        "# with strategy.scope():\n",
        "ckpt_path = \"dreambooth-unet.h5\"\n",
        "ckpt_callback = tf.keras.callbacks.ModelCheckpoint(\n",
        "    ckpt_path,\n",
        "    save_weights_only=True,\n",
        "    monitor=\"loss\",\n",
        "    mode=\"min\",\n",
        ")\n",
        "dreambooth_trainer.fit(train_dataset, epochs=epochs, callbacks=[ckpt_callback])"
      ],
      "metadata": {
        "id": "93kY1Qnu3upy"
      },
      "execution_count": null,
      "outputs": []
    }
  ]
}